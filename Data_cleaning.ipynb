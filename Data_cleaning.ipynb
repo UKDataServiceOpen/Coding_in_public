{
 "cells": [
  {
   "cell_type": "code",
   "execution_count": 1,
   "id": "f709e455",
   "metadata": {},
   "outputs": [],
   "source": [
    "import pandas as pd\n",
    "import os"
   ]
  },
  {
   "cell_type": "code",
   "execution_count": 2,
   "id": "f332d58b",
   "metadata": {},
   "outputs": [],
   "source": [
    "    os.getcwd()"
   ]
  },
  {
   "cell_type": "markdown",
   "id": "026b6453",
   "metadata": {},
   "source": [
    "# Dataset 1"
   ]
  },
  {
   "cell_type": "code",
   "execution_count": 3,
   "id": "4deb6864",
   "metadata": {},
   "outputs": [],
   "source": [
    "# Start reading in data from row 2\n",
    "\n",
    "df = pd.read_excel('file_1.xlsx', header = 2)"
   ]
  },
  {
   "cell_type": "code",
   "execution_count": 4,
   "id": "96ef21a7",
   "metadata": {},
   "outputs": [],
   "source": [
    "# Let's see what we're working with\n",
    "\n",
    "df.head()"
   ]
  },
  {
   "cell_type": "code",
   "execution_count": 5,
   "id": "5e0bd415",
   "metadata": {},
   "outputs": [],
   "source": [
    "# Drop columns with only NaN values\n",
    "\n",
    "df = df.dropna(axis=1, how='all')"
   ]
  },
  {
   "cell_type": "code",
   "execution_count": 6,
   "id": "a1a34cf8",
   "metadata": {},
   "outputs": [],
   "source": [
    "df"
   ]
  },
  {
   "cell_type": "code",
   "execution_count": 7,
   "id": "121140a1",
   "metadata": {},
   "outputs": [],
   "source": [
    "# Drop upvote columns.. useless info\n",
    "\n",
    "upvote_columns = df.filter(like='Upvotes')"
   ]
  },
  {
   "cell_type": "code",
   "execution_count": 8,
   "id": "cd27cb96",
   "metadata": {},
   "outputs": [],
   "source": [
    "# Create boolean mask to look for upvote columns\n",
    "\n",
    "mask = df.columns.str.contains('Upvotes')\n",
    "\n",
    "# Use .loc to find these columns and drop them\n",
    "\n",
    "df = df.loc[:, ~mask]"
   ]
  },
  {
   "cell_type": "code",
   "execution_count": 9,
   "id": "9684f619",
   "metadata": {},
   "outputs": [],
   "source": [
    "# Get rid of another useless column\n",
    "\n",
    "# Drop the 4th column by index\n",
    "df.drop(df.columns[3], axis=1, inplace=True)"
   ]
  },
  {
   "cell_type": "code",
   "execution_count": 10,
   "id": "d469f97a",
   "metadata": {},
   "outputs": [],
   "source": [
    "df"
   ]
  },
  {
   "cell_type": "code",
   "execution_count": 11,
   "id": "32a0a4cd",
   "metadata": {},
   "outputs": [],
   "source": [
    "long_df = pd.melt(df, id_vars=['Date', 'Session', 'Voter'], var_name='Question', value_name='Response')"
   ]
  },
  {
   "cell_type": "code",
   "execution_count": 12,
   "id": "bc911eaa",
   "metadata": {
    "scrolled": true
   },
   "outputs": [],
   "source": [
    "long_df.head(50)"
   ]
  },
  {
   "cell_type": "code",
   "execution_count": 13,
   "id": "25f2c321",
   "metadata": {},
   "outputs": [],
   "source": [
    "long_df.to_excel('Cleaned/long/l_file_1.xlsx', index=False)"
   ]
  },
  {
   "cell_type": "code",
   "execution_count": 14,
   "id": "1b62d74a",
   "metadata": {},
   "outputs": [],
   "source": [
    "df.to_excel('Cleaned/wide/w_file_1.xlsx', index = False)"
   ]
  },
  {
   "cell_type": "markdown",
   "id": "db83eb8a",
   "metadata": {},
   "source": [
    "# Dataset 2"
   ]
  },
  {
   "cell_type": "code",
   "execution_count": 15,
   "id": "9fe39821",
   "metadata": {},
   "outputs": [],
   "source": [
    "df2 = pd.read_excel('file_2.xlsx', header = 2)"
   ]
  },
  {
   "cell_type": "code",
   "execution_count": 16,
   "id": "be6046a9",
   "metadata": {},
   "outputs": [],
   "source": [
    "df2.head()"
   ]
  },
  {
   "cell_type": "code",
   "execution_count": 17,
   "id": "ae93a762",
   "metadata": {},
   "outputs": [],
   "source": [
    "df2 = df2.dropna(axis=1, how='all')"
   ]
  },
  {
   "cell_type": "code",
   "execution_count": 18,
   "id": "45ddce12",
   "metadata": {},
   "outputs": [],
   "source": [
    "df2.head()"
   ]
  },
  {
   "cell_type": "code",
   "execution_count": 19,
   "id": "e33be8b1",
   "metadata": {},
   "outputs": [],
   "source": [
    "mask = df2.columns.str.contains('Upvotes')\n",
    "\n",
    "df2 = df2.loc[:, ~mask]"
   ]
  },
  {
   "cell_type": "code",
   "execution_count": 20,
   "id": "50c8bdf3",
   "metadata": {},
   "outputs": [],
   "source": [
    "df2"
   ]
  },
  {
   "cell_type": "code",
   "execution_count": 21,
   "id": "972c0386",
   "metadata": {},
   "outputs": [],
   "source": [
    "# Rename values in 'Session' column, should be 2 not 1\n",
    "\n",
    "# Replace values\n",
    "df2['Session'] = df2['Session'].replace(1, 2)"
   ]
  },
  {
   "cell_type": "markdown",
   "id": "8f5210e5",
   "metadata": {},
   "source": [
    "# Number of voters...\n",
    "\n",
    "Changes from session 1 to 2, maybe Vanessa joining?"
   ]
  },
  {
   "cell_type": "code",
   "execution_count": 22,
   "id": "bfbfa585",
   "metadata": {},
   "outputs": [],
   "source": [
    "df2.Voter.unique()"
   ]
  },
  {
   "cell_type": "code",
   "execution_count": 23,
   "id": "f63e5294",
   "metadata": {},
   "outputs": [],
   "source": [
    "df.Voter.unique()"
   ]
  },
  {
   "cell_type": "markdown",
   "id": "e961e64a",
   "metadata": {},
   "source": [
    "# Mentimeter info \n",
    "\n",
    "* Anonymous Voting: By default, Mentimeter does not track the identity of voters between sessions. Each session is treated independently, and participants are assigned a temporary identifier that is unique to that session. This means that if the same participant joins multiple sessions, they will likely be assigned a different identifier in each session.\n",
    "* Session-Based IDs: If participants join a new session (even with the same presentation code), they generally receive a new, unique identifier for that session. This behavior supports anonymity and privacy but makes longitudinal tracking across sessions challenging."
   ]
  },
  {
   "cell_type": "code",
   "execution_count": 24,
   "id": "682eba7d",
   "metadata": {},
   "outputs": [],
   "source": [
    "df2"
   ]
  },
  {
   "cell_type": "code",
   "execution_count": 25,
   "id": "2aa6e416",
   "metadata": {},
   "outputs": [],
   "source": [
    "long_df2 = pd.melt(df2, id_vars=['Date', 'Session', 'Voter'], var_name='Question', value_name='Response')"
   ]
  },
  {
   "cell_type": "code",
   "execution_count": 26,
   "id": "3dc6c0b1",
   "metadata": {},
   "outputs": [],
   "source": [
    "long_df2"
   ]
  },
  {
   "cell_type": "code",
   "execution_count": 27,
   "id": "06d45e89",
   "metadata": {},
   "outputs": [],
   "source": [
    "long_df2.to_excel('Cleaned/long/l_file_2.xlsx', index=False)\n",
    "df2.to_excel('Cleaned/wide/w_file_2.xlsx', index = False)"
   ]
  },
  {
   "cell_type": "markdown",
   "id": "a0096108",
   "metadata": {},
   "source": [
    "# Dataset 3"
   ]
  },
  {
   "cell_type": "code",
   "execution_count": 28,
   "id": "84051282",
   "metadata": {},
   "outputs": [],
   "source": [
    "df3 = pd.read_excel('file_3.xlsx', header = 2)"
   ]
  },
  {
   "cell_type": "code",
   "execution_count": 29,
   "id": "178b4f05",
   "metadata": {},
   "outputs": [],
   "source": [
    "df3"
   ]
  },
  {
   "cell_type": "code",
   "execution_count": 30,
   "id": "5f45304d",
   "metadata": {},
   "outputs": [],
   "source": [
    "df3 = df3.dropna(axis=1, how='all')"
   ]
  },
  {
   "cell_type": "code",
   "execution_count": 31,
   "id": "25a12415",
   "metadata": {},
   "outputs": [],
   "source": [
    "df3.head()"
   ]
  },
  {
   "cell_type": "code",
   "execution_count": 32,
   "id": "ada83d9f",
   "metadata": {},
   "outputs": [],
   "source": [
    "mask = df3.columns.str.contains('Upvotes')\n",
    "\n",
    "df3 = df3.loc[:, ~mask]"
   ]
  },
  {
   "cell_type": "code",
   "execution_count": 33,
   "id": "18c5598e",
   "metadata": {},
   "outputs": [],
   "source": [
    "df3.head()"
   ]
  },
  {
   "cell_type": "code",
   "execution_count": 34,
   "id": "e9ab4582",
   "metadata": {},
   "outputs": [],
   "source": [
    "df3.Voter.unique()"
   ]
  },
  {
   "cell_type": "code",
   "execution_count": 35,
   "id": "589b089c",
   "metadata": {},
   "outputs": [],
   "source": [
    "df3['Session'] = df3['Session'].replace(1, 3)\n",
    "\n",
    "df3.head()"
   ]
  },
  {
   "cell_type": "code",
   "execution_count": 36,
   "id": "249056d1",
   "metadata": {},
   "outputs": [],
   "source": [
    "# Drop the 4th column by index\n",
    "df3.drop(df3.columns[3], axis=1, inplace=True)"
   ]
  },
  {
   "cell_type": "code",
   "execution_count": 37,
   "id": "ad73eddc",
   "metadata": {},
   "outputs": [],
   "source": [
    "long_df3 = pd.melt(df3, id_vars=['Date', 'Session', 'Voter'], var_name='Question', value_name='Response')\n",
    "long_df3.head()"
   ]
  },
  {
   "cell_type": "code",
   "execution_count": 38,
   "id": "fa122d17",
   "metadata": {},
   "outputs": [],
   "source": [
    "long_df3.to_excel('Cleaned/long/l_file_3.xlsx', index=False)\n",
    "df3.to_excel('Cleaned/wide/w_file_3.xlsx', index = False)"
   ]
  },
  {
   "cell_type": "markdown",
   "id": "374dfbc1",
   "metadata": {},
   "source": [
    "# Wide w sheets and w/o voters"
   ]
  },
  {
   "cell_type": "code",
   "execution_count": 39,
   "id": "f8806d93",
   "metadata": {},
   "outputs": [],
   "source": [
    "# Just w/o voters\n",
    "\n",
    "df = df.drop(columns=['Voter'])\n",
    "df2 = df2.drop(columns=['Voter'])\n",
    "df3 = df3.drop(columns=['Voter'])"
   ]
  },
  {
   "cell_type": "code",
   "execution_count": 40,
   "id": "9ad94206",
   "metadata": {},
   "outputs": [],
   "source": [
    "df.to_excel('Cleaned/wide/wovot_file_1.xlsx', index = False)\n",
    "df2.to_excel('Cleaned/wide/wovot_file_2.xlsx', index = False)\n",
    "df3.to_excel('Cleaned/wide/wovot_file_3.xlsx', index = False)"
   ]
  },
  {
   "cell_type": "code",
   "execution_count": 41,
   "id": "84c1194d",
   "metadata": {},
   "outputs": [],
   "source": [
    "df"
   ]
  },
  {
   "cell_type": "code",
   "execution_count": 42,
   "id": "a081e4b0",
   "metadata": {},
   "outputs": [],
   "source": [
    "# Create a Pandas Excel writer using Openpyxl as the engine\n",
    "writer = pd.ExcelWriter('Cleaned/wide_together/Compiled_Sessions.xlsx', engine='openpyxl')\n",
    "\n",
    "# Write each dataframe to a separate sheet\n",
    "df.to_excel(writer, sheet_name='Session 1', index=False)\n",
    "df2.to_excel(writer, sheet_name='Session 2', index=False)\n",
    "df3.to_excel(writer, sheet_name='Session 3', index=False)\n",
    "\n",
    "# Close the Pandas Excel writer and save the Excel file\n",
    "writer.close()"
   ]
  }
 ],
 "metadata": {
  "kernelspec": {
   "display_name": "Python (py312)",
   "language": "python",
   "name": "py312"
  },
  "language_info": {
   "codemirror_mode": {
    "name": "ipython",
    "version": 3
   },
   "file_extension": ".py",
   "mimetype": "text/x-python",
   "name": "python",
   "nbconvert_exporter": "python",
   "pygments_lexer": "ipython3",
   "version": "3.11.8"
  },
  "toc": {
   "base_numbering": 1,
   "nav_menu": {},
   "number_sections": true,
   "sideBar": true,
   "skip_h1_title": false,
   "title_cell": "Table of Contents",
   "title_sidebar": "Contents",
   "toc_cell": false,
   "toc_position": {},
   "toc_section_display": true,
   "toc_window_display": true
  },
  "varInspector": {
   "cols": {
    "lenName": 16,
    "lenType": 16,
    "lenVar": 40
   },
   "kernels_config": {
    "python": {
     "delete_cmd_postfix": "",
     "delete_cmd_prefix": "del ",
     "library": "var_list.py",
     "varRefreshCmd": "print(var_dic_list())"
    },
    "r": {
     "delete_cmd_postfix": ") ",
     "delete_cmd_prefix": "rm(",
     "library": "var_list.r",
     "varRefreshCmd": "cat(var_dic_list()) "
    }
   },
   "types_to_exclude": [
    "module",
    "function",
    "builtin_function_or_method",
    "instance",
    "_Feature"
   ],
   "window_display": false
  }
 },
 "nbformat": 4,
 "nbformat_minor": 5
}
